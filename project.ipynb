{
 "cells": [
  {
   "cell_type": "markdown",
   "metadata": {},
   "source": [
    "# IR Project\n",
    "in this project I have created a indexer for docs and also a search engine using tf-idf scoring.\n",
    "\n",
    "### Importing Libs"
   ]
  },
  {
   "cell_type": "code",
   "execution_count": 1,
   "metadata": {},
   "outputs": [],
   "source": [
    "from indexer import Indexer\n",
    "from search_engine import SearchEngine"
   ]
  },
  {
   "cell_type": "markdown",
   "metadata": {},
   "source": [
    "### Setting Configs"
   ]
  },
  {
   "cell_type": "code",
   "execution_count": 2,
   "metadata": {},
   "outputs": [],
   "source": [
    "DEBUG = True                                # Set true to see what is happening behind the scene.\n",
    "DB_ADDR = './IR_data_news_12k.json'         # Database address\n",
    "INDEX_ADDR = 'index.json'                   # Index address\n",
    "REFINED_DB_ADDRESS = './refined_db.json'    # Refined DB address\n",
    "REMOVE_FIRST_X_SW = 50                      # Remove first x most frequent words"
   ]
  },
  {
   "cell_type": "markdown",
   "metadata": {},
   "source": [
    "### Building and Running Indexer\n",
    "first we build index: it must contain items like below: <br>\n",
    "index[token] -> {freq:int, postings_list:{'doc_id':freq_in_doc}}"
   ]
  },
  {
   "cell_type": "code",
   "execution_count": 3,
   "metadata": {},
   "outputs": [
    {
     "name": "stdout",
     "output_type": "stream",
     "text": [
      "Max Docs: 12202\n",
      "Some of tokens ready to index: [{'doc_id': '0', 'token': 'به'}, {'doc_id': '0', 'token': 'گزارش'}, {'doc_id': '0', 'token': 'خبرگزاری'}, {'doc_id': '0', 'token': 'فارس'}, {'doc_id': '0', 'token': '،'}, {'doc_id': '0', 'token': 'کنفدراسیون'}, {'doc_id': '0', 'token': 'فوتبال'}, {'doc_id': '0', 'token': 'آسیا'}, {'doc_id': '0', 'token': 'AFC'}, {'doc_id': '0', 'token': 'در'}]\n",
      "Here you can see 10 first stop words:\n",
      "0-term: و, freq: 219258\n",
      "1-term: در, freq: 164533\n",
      "2-term: به, freq: 132864\n",
      "3-term: ،, freq: 120348\n",
      "4-term: از, freq: 92982\n",
      "5-term: این, freq: 82646\n",
      "6-term: که, freq: 75470\n",
      "7-term: کرد#کن, freq: 74160\n",
      "8-term: با, freq: 69037\n",
      "9-term: را, freq: 67496\n"
     ]
    }
   ],
   "source": [
    "indexer = Indexer(DB_ADDR, INDEX_ADDR, REFINED_DB_ADDRESS, REMOVE_FIRST_X_SW, DEBUG)\n",
    "indexer.run()\n",
    "del(indexer)"
   ]
  },
  {
   "cell_type": "markdown",
   "metadata": {},
   "source": [
    "### Building Search Engine\n",
    "In this engine I have used tf-idf scoring."
   ]
  },
  {
   "cell_type": "code",
   "execution_count": 4,
   "metadata": {},
   "outputs": [],
   "source": [
    "search_engine = SearchEngine(INDEX_ADDR, REFINED_DB_ADDRESS, 12202, DEBUG)"
   ]
  },
  {
   "cell_type": "markdown",
   "metadata": {},
   "source": [
    "### Testing Search Engine\n",
    "here I am testing search engine results:"
   ]
  },
  {
   "cell_type": "code",
   "execution_count": 10,
   "metadata": {},
   "outputs": [
    {
     "name": "stdout",
     "output_type": "stream",
     "text": [
      "purified query tokens:  ['قهرمان', 'فوتبال', 'جام', 'ملت', 'آسیا']\n",
      "0-Doc_ID: 3457 - Score: 4.145812373655952\n",
      "1-Doc_ID: 2098 - Score: 3.806443212502006\n",
      "2-Doc_ID: 4887 - Score: 3.454906657335963\n",
      "3-Doc_ID: 6350 - Score: 3.3275599803619196\n",
      "4-Doc_ID: 5703 - Score: 3.156462746002772\n",
      "5-Doc_ID: 3431 - Score: 3.124744076653537\n",
      "6-Doc_ID: 5412 - Score: 3.111296853734593\n",
      "7-Doc_ID: 4926 - Score: 3.100968533953274\n",
      "8-Doc_ID: 163 - Score: 3.0844869367349603\n",
      "9-Doc_ID: 3410 - Score: 2.8572315499704786\n"
     ]
    }
   ],
   "source": [
    "search_engine.run(test_q='قهرمان فوتبال جام ملت های آسیا')"
   ]
  }
 ],
 "metadata": {
  "kernelspec": {
   "display_name": "Python 3",
   "language": "python",
   "name": "python3"
  },
  "language_info": {
   "codemirror_mode": {
    "name": "ipython",
    "version": 3
   },
   "file_extension": ".py",
   "mimetype": "text/x-python",
   "name": "python",
   "nbconvert_exporter": "python",
   "pygments_lexer": "ipython3",
   "version": "3.8.7"
  }
 },
 "nbformat": 4,
 "nbformat_minor": 2
}
